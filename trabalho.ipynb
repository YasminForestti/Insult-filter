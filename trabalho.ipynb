{
 "cells": [
  {
   "cell_type": "code",
   "execution_count": 2,
   "metadata": {},
   "outputs": [
    {
     "name": "stderr",
     "output_type": "stream",
     "text": [
      "2024-11-13 22:32:34.978955: E external/local_xla/xla/stream_executor/cuda/cuda_fft.cc:477] Unable to register cuFFT factory: Attempting to register factory for plugin cuFFT when one has already been registered\n",
      "WARNING: All log messages before absl::InitializeLog() is called are written to STDERR\n",
      "E0000 00:00:1731547955.045711  562475 cuda_dnn.cc:8310] Unable to register cuDNN factory: Attempting to register factory for plugin cuDNN when one has already been registered\n",
      "E0000 00:00:1731547955.063276  562475 cuda_blas.cc:1418] Unable to register cuBLAS factory: Attempting to register factory for plugin cuBLAS when one has already been registered\n",
      "2024-11-13 22:32:35.206823: I tensorflow/core/platform/cpu_feature_guard.cc:210] This TensorFlow binary is optimized to use available CPU instructions in performance-critical operations.\n",
      "To enable the following instructions: AVX2 FMA, in other operations, rebuild TensorFlow with the appropriate compiler flags.\n",
      "/home/gta/chiacchio/ProcVoz/nlp/env_nlp/lib/python3.10/site-packages/tqdm/auto.py:21: TqdmWarning: IProgress not found. Please update jupyter and ipywidgets. See https://ipywidgets.readthedocs.io/en/stable/user_install.html\n",
      "  from .autonotebook import tqdm as notebook_tqdm\n"
     ]
    }
   ],
   "source": [
    "from glob import glob\n",
    "import whisper\n",
    "import librosa\n",
    "import IPython.display as ipd\n",
    "import numpy as np\n",
    "import keras_nlp\n",
    "import keras"
   ]
  },
  {
   "cell_type": "code",
   "execution_count": 3,
   "metadata": {},
   "outputs": [],
   "source": [
    "import os\n",
    "os.environ[\"CUDA_VISIBLE_DEVICES\"] = \"\"\n"
   ]
  },
  {
   "cell_type": "code",
   "execution_count": 4,
   "metadata": {},
   "outputs": [
    {
     "name": "stderr",
     "output_type": "stream",
     "text": [
      "2024-11-13 22:32:37.193107: E external/local_xla/xla/stream_executor/cuda/cuda_driver.cc:152] failed call to cuInit: INTERNAL: CUDA error: Failed call to cuInit: CUDA_ERROR_NO_DEVICE: no CUDA-capable device is detected\n",
      "2024-11-13 22:32:37.193126: I external/local_xla/xla/stream_executor/cuda/cuda_diagnostics.cc:137] retrieving CUDA diagnostic information for host: paodeacucar\n",
      "2024-11-13 22:32:37.193130: I external/local_xla/xla/stream_executor/cuda/cuda_diagnostics.cc:144] hostname: paodeacucar\n",
      "2024-11-13 22:32:37.193155: I external/local_xla/xla/stream_executor/cuda/cuda_diagnostics.cc:168] libcuda reported version is: 565.57.1\n",
      "2024-11-13 22:32:37.193169: I external/local_xla/xla/stream_executor/cuda/cuda_diagnostics.cc:172] kernel reported version is: 565.57.1\n",
      "2024-11-13 22:32:37.193172: I external/local_xla/xla/stream_executor/cuda/cuda_diagnostics.cc:259] kernel version seems to match DSO: 565.57.1\n",
      "/home/gta/chiacchio/ProcVoz/nlp/env_nlp/lib/python3.10/site-packages/whisper/__init__.py:150: FutureWarning: You are using `torch.load` with `weights_only=False` (the current default value), which uses the default pickle module implicitly. It is possible to construct malicious pickle data which will execute arbitrary code during unpickling (See https://github.com/pytorch/pytorch/blob/main/SECURITY.md#untrusted-models for more details). In a future release, the default value for `weights_only` will be flipped to `True`. This limits the functions that could be executed during unpickling. Arbitrary objects will no longer be allowed to be loaded via this mode unless they are explicitly allowlisted by the user via `torch.serialization.add_safe_globals`. We recommend you start setting `weights_only=True` for any use case where you don't have full control of the loaded file. Please open an issue on GitHub for any issues related to this experimental feature.\n",
      "  checkpoint = torch.load(fp, map_location=device)\n"
     ]
    }
   ],
   "source": [
    "screamModel = keras.models.load_model('/home/gta/chiacchio/ProcVoz/Insult-filter/models/scream_detection.keras')\n",
    "emotionModel = keras.models.load_model('/home/gta/chiacchio/ProcVoz/Insult-filter/models/emotion_detection_2.keras')\n",
    "transcriptModel = whisper.load_model(\"base\")\n",
    "classifier = keras_nlp.models.DistilBertClassifier.from_preset('distil_bert_base_multi', num_classes=2)\n"
   ]
  },
  {
   "cell_type": "code",
   "execution_count": 5,
   "metadata": {},
   "outputs": [
    {
     "name": "stdout",
     "output_type": "stream",
     "text": [
      "GPUs available:  []\n"
     ]
    }
   ],
   "source": [
    "import tensorflow as tf\n",
    "\n",
    "gpus = tf.config.list_physical_devices('GPU')\n",
    "print(\"GPUs available: \", gpus)"
   ]
  },
  {
   "cell_type": "code",
   "execution_count": 74,
   "metadata": {},
   "outputs": [
    {
     "data": {
      "text/html": [
       "\n",
       "                <audio  controls=\"controls\" >\n",
       "                    <source src=\"data:None;base64,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\" type=\"None\" />\n",
       "                    Your browser does not support the audio element.\n",
       "                </audio>\n",
       "              "
      ],
      "text/plain": [
       "<IPython.lib.display.Audio object>"
      ]
     },
     "execution_count": 74,
     "metadata": {},
     "output_type": "execute_result"
    }
   ],
   "source": [
    "sample_rate = 4000\n",
    "trascribe_sample_rate = 16000\n",
    "n_mfcc = 64\n",
    "\n",
    "\n",
    "file = glob('/home/gta/chiacchio/ProcVoz/Insult-filter/NPL/audios/audio6.*')[0]\n",
    "audio, _ = librosa.load(file, sr=sample_rate)\n",
    "trascribe_audio, _ = librosa.load(file, sr=trascribe_sample_rate)\n",
    "\n",
    "ipd.Audio(file)"
   ]
  },
  {
   "cell_type": "code",
   "execution_count": 70,
   "metadata": {},
   "outputs": [
    {
     "data": {
      "text/plain": [
       "1"
      ]
     },
     "execution_count": 70,
     "metadata": {},
     "output_type": "execute_result"
    }
   ],
   "source": [
    "sectionSizeSeconds = 10\n",
    "audio_sections = [audio[i:i + sectionSizeSeconds*sample_rate]\n",
    "                  for i in range(0, len(audio), sectionSizeSeconds*sample_rate)]\n",
    "audio_sections[-1] = librosa.util.fix_length(audio_sections[-1], size=sample_rate*sectionSizeSeconds)\n",
    "\n",
    "transcriptAudioSections = [trascribe_audio[i:i + sectionSizeSeconds*trascribe_sample_rate]\n",
    "                  for i in range(0, len(trascribe_audio), sectionSizeSeconds*trascribe_sample_rate)]\n",
    "\n",
    "transcriptAudioSections[-1] = librosa.util.fix_length(transcriptAudioSections[-1], size=trascribe_sample_rate*sectionSizeSeconds)\n",
    "\n",
    "len(audio_sections)"
   ]
  },
  {
   "cell_type": "code",
   "execution_count": 71,
   "metadata": {},
   "outputs": [
    {
     "name": "stdout",
     "output_type": "stream",
     "text": [
      "\u001b[1m1/1\u001b[0m \u001b[32m━━━━━━━━━━━━━━━━━━━━\u001b[0m\u001b[37m\u001b[0m \u001b[1m0s\u001b[0m 16ms/step\n",
      "[[9.9959415e-01 4.0591380e-04]]\n",
      "\u001b[1m1/1\u001b[0m \u001b[32m━━━━━━━━━━━━━━━━━━━━\u001b[0m\u001b[37m\u001b[0m \u001b[1m0s\u001b[0m 14ms/step\n",
      "[[7.7837106e-09 2.2211560e-07 5.3223643e-09 3.2270724e-05 9.9996710e-01\n",
      "  3.2486440e-07]]\n"
     ]
    },
    {
     "name": "stderr",
     "output_type": "stream",
     "text": [
      "  0%|          | 0/1000 [00:00<?, ?frames/s]"
     ]
    },
    {
     "name": "stderr",
     "output_type": "stream",
     "text": [
      "100%|██████████| 1000/1000 [00:00<00:00, 1247.90frames/s]\n"
     ]
    },
    {
     "name": "stdout",
     "output_type": "stream",
     "text": [
      " Vitória acordou com o latido dos cachorros no quintado vizinho. A sustada sentou na cama e olhou pela janela do quarto. No segundo andar da casa.\n",
      "\u001b[1m1/1\u001b[0m \u001b[32m━━━━━━━━━━━━━━━━━━━━\u001b[0m\u001b[37m\u001b[0m \u001b[1m0s\u001b[0m 341ms/step\n",
      "[[0.06710286 0.13285983]]\n"
     ]
    }
   ],
   "source": [
    "# tst = glob('/home/gta/chiacchio/ProcVoz/data/screaming/*.wav')[0]\n",
    "# file = glob('/home/gta/chiacchio/ProcVoz/Insult-filter/NPL/audios/audio7.*')[0]\n",
    "\n",
    "# tst = librosa.load(file, sr=sample_rate)[0]\n",
    "# tst = librosa.util.fix_length(tst, size=sample_rate*10)\n",
    "\n",
    "\n",
    "tst = audio_sections[0]\n",
    "transcribe_tst = transcriptAudioSections[0]\n",
    "x = np.array(librosa.feature.mfcc(y=tst, sr=sample_rate, n_mfcc=n_mfcc))\n",
    "x = np.expand_dims(x, axis=0)\n",
    "\n",
    "\n",
    "print(screamModel.predict(x))\n",
    "print(emotionModel.predict(x))\n",
    "result = transcriptModel.transcribe(transcribe_tst, verbose=False, language=\"portuguese\")['text']\n",
    "print(result)\n",
    "print(classifier.predict([result]))\n",
    "\n",
    "# ipd.Audio(tst, rate=4000)\n",
    "\n",
    "# emotionModel.input_shape\n"
   ]
  },
  {
   "cell_type": "code",
   "execution_count": 80,
   "metadata": {},
   "outputs": [
    {
     "data": {
      "text/plain": [
       "['/home/gta/chiacchio/ProcVoz/Insult-filter/NPL/audios/audio3.m4a',\n",
       " '/home/gta/chiacchio/ProcVoz/Insult-filter/NPL/audios/audio5.waptt',\n",
       " '/home/gta/chiacchio/ProcVoz/Insult-filter/NPL/audios/audio2.m4a',\n",
       " '/home/gta/chiacchio/ProcVoz/Insult-filter/NPL/audios/audio4.waptt',\n",
       " '/home/gta/chiacchio/ProcVoz/Insult-filter/NPL/audios/audio7.waptt',\n",
       " '/home/gta/chiacchio/ProcVoz/Insult-filter/NPL/audios/audio6.waptt']"
      ]
     },
     "execution_count": 80,
     "metadata": {},
     "output_type": "execute_result"
    }
   ],
   "source": [
    "glob('/home/gta/chiacchio/ProcVoz/Insult-filter/NPL/audios/*.*')[:-1]"
   ]
  },
  {
   "cell_type": "code",
   "execution_count": 82,
   "metadata": {},
   "outputs": [
    {
     "name": "stdout",
     "output_type": "stream",
     "text": [
      "\n",
      "\n",
      "New file:  /home/gta/chiacchio/ProcVoz/Insult-filter/NPL/audios/audio3.m4a\n"
     ]
    },
    {
     "name": "stderr",
     "output_type": "stream",
     "text": [
      "/tmp/ipykernel_562475/1294092552.py:6: UserWarning: PySoundFile failed. Trying audioread instead.\n",
      "  audio, _ = librosa.load(file, sr=sample_rate)\n",
      "/home/gta/chiacchio/ProcVoz/nlp/env_nlp/lib/python3.10/site-packages/librosa/core/audio.py:184: FutureWarning: librosa.core.audio.__audioread_load\n",
      "\tDeprecated as of librosa version 0.10.0.\n",
      "\tIt will be removed in librosa version 1.0.\n",
      "  y, sr_native = __audioread_load(path, offset, duration, dtype)\n",
      "/tmp/ipykernel_562475/1294092552.py:7: UserWarning: PySoundFile failed. Trying audioread instead.\n",
      "  trascribe_audio, _ = librosa.load(file, sr=trascribe_sample_rate)\n",
      "/home/gta/chiacchio/ProcVoz/nlp/env_nlp/lib/python3.10/site-packages/librosa/core/audio.py:184: FutureWarning: librosa.core.audio.__audioread_load\n",
      "\tDeprecated as of librosa version 0.10.0.\n",
      "\tIt will be removed in librosa version 1.0.\n",
      "  y, sr_native = __audioread_load(path, offset, duration, dtype)\n",
      "/home/gta/chiacchio/ProcVoz/nlp/env_nlp/lib/python3.10/site-packages/whisper/transcribe.py:126: UserWarning: FP16 is not supported on CPU; using FP32 instead\n",
      "  warnings.warn(\"FP16 is not supported on CPU; using FP32 instead\")\n"
     ]
    },
    {
     "name": "stdout",
     "output_type": "stream",
     "text": [
      "[0 até 10]:  Raiva + Nojo = 2.2996808992682694e-13\n",
      "Resultado Grito: 0.9984917640686035 0.0015082771424204111\n",
      "Resultado NLP: [[0.05977767 0.1246938 ]]\n",
      "Transcrição:  O subsolo também produz golpes de estado, revoluções, histórias de espionagem e aventuras na floresta amazônica.\n",
      "Liberar\n",
      "\n",
      "\n",
      "New file:  /home/gta/chiacchio/ProcVoz/Insult-filter/NPL/audios/audio5.waptt\n",
      "[0 até 10]:  Raiva + Nojo = 3.227604611311108e-05\n",
      "Resultado Grito: 0.9995941519737244 0.000405913800932467\n",
      "Resultado NLP: [[0.06710286 0.13285983]]\n",
      "Transcrição:  Vitória acordou com o latido dos cachorros no quintado vizinho. A sustada sentou na cama e olhou pela janela do quarto. No segundo andar da casa.\n",
      "Liberar\n",
      "\n",
      "\n",
      "New file:  /home/gta/chiacchio/ProcVoz/Insult-filter/NPL/audios/audio2.m4a\n"
     ]
    },
    {
     "name": "stderr",
     "output_type": "stream",
     "text": [
      "/tmp/ipykernel_562475/1294092552.py:6: UserWarning: PySoundFile failed. Trying audioread instead.\n",
      "  audio, _ = librosa.load(file, sr=sample_rate)\n",
      "/home/gta/chiacchio/ProcVoz/nlp/env_nlp/lib/python3.10/site-packages/librosa/core/audio.py:184: FutureWarning: librosa.core.audio.__audioread_load\n",
      "\tDeprecated as of librosa version 0.10.0.\n",
      "\tIt will be removed in librosa version 1.0.\n",
      "  y, sr_native = __audioread_load(path, offset, duration, dtype)\n",
      "/tmp/ipykernel_562475/1294092552.py:7: UserWarning: PySoundFile failed. Trying audioread instead.\n",
      "  trascribe_audio, _ = librosa.load(file, sr=trascribe_sample_rate)\n",
      "/home/gta/chiacchio/ProcVoz/nlp/env_nlp/lib/python3.10/site-packages/librosa/core/audio.py:184: FutureWarning: librosa.core.audio.__audioread_load\n",
      "\tDeprecated as of librosa version 0.10.0.\n",
      "\tIt will be removed in librosa version 1.0.\n",
      "  y, sr_native = __audioread_load(path, offset, duration, dtype)\n",
      "/home/gta/chiacchio/ProcVoz/nlp/env_nlp/lib/python3.10/site-packages/whisper/transcribe.py:126: UserWarning: FP16 is not supported on CPU; using FP32 instead\n",
      "  warnings.warn(\"FP16 is not supported on CPU; using FP32 instead\")\n"
     ]
    },
    {
     "name": "stdout",
     "output_type": "stream",
     "text": [
      "[0 até 10]:  Raiva + Nojo = 0.0007235119119286537\n",
      "Resultado Grito: 0.9783387184143066 0.021661313250660896\n",
      "Resultado NLP: [[0.05942304 0.14919698]]\n",
      "Transcrição:  Castelas de açúcar sobre solos queimados de Cuba.\n",
      "Liberar\n",
      "\n",
      "\n",
      "New file:  /home/gta/chiacchio/ProcVoz/Insult-filter/NPL/audios/audio4.waptt\n",
      "[0 até 10]:  Raiva + Nojo = 0.9988653659820557\n",
      "Resultado Grito: 0.9998582601547241 0.00014169169298838824\n",
      "Resultado NLP: [[0.06733508 0.17685439]]\n",
      "Bloquado por Raiva ou Nojo\n",
      "Transcrição:  sem querer transforme por minha professora de iniciação à álgebra.\n",
      "Bloquear\n",
      "[10 até 20]:  Raiva + Nojo = 3.662374297164206e-07\n",
      "Resultado Grito: 0.9996352195739746 0.0003647301346063614\n",
      "Resultado NLP: [[0.05695776 0.13474438]]\n",
      "Transcrição: \n",
      "Liberar\n",
      "\n",
      "\n",
      "New file:  /home/gta/chiacchio/ProcVoz/Insult-filter/NPL/audios/audio7.waptt\n",
      "[0 até 10]:  Raiva + Nojo = 0.9981316924095154\n",
      "Resultado Grito: 0.868955135345459 0.13104479014873505\n",
      "Resultado NLP: [[0.03146295 0.13800214]]\n",
      "Bloquado por Raiva ou Nojo\n",
      "Transcrição:  Vai tomar no cu.\n",
      "Bloquear\n",
      "\n",
      "\n",
      "New file:  /home/gta/chiacchio/ProcVoz/Insult-filter/NPL/audios/audio6.waptt\n",
      "[0 até 10]:  Raiva + Nojo = 2.17289870178914e-15\n",
      "Resultado Grito: 0.01729341596364975 0.9827065467834473\n",
      "Resultado NLP: [[0.04919836 0.12246314]]\n",
      "Bloquado por Grito\n",
      "Transcrição:  Em 1762, os ingleses se apostaram meteóricamente de Avanna.\n",
      "Bloquear\n"
     ]
    }
   ],
   "source": [
    "import warnings\n",
    "\n",
    "warnings.filterwarnings(\"ignore\", category=UserWarning, module='librosa')\n",
    "for file in glob('/home/gta/chiacchio/ProcVoz/Insult-filter/NPL/audios/*.*')[:-1]:\n",
    "    print('\\n\\nNew file: ', file)\n",
    "    audio, _ = librosa.load(file, sr=sample_rate)\n",
    "    trascribe_audio, _ = librosa.load(file, sr=trascribe_sample_rate)\n",
    "    audio_sections = [audio[i:i + sectionSizeSeconds*sample_rate]\n",
    "                    for i in range(0, len(audio), sectionSizeSeconds*sample_rate)]\n",
    "    audio_sections[-1] = librosa.util.fix_length(audio_sections[-1], size=sample_rate*sectionSizeSeconds)\n",
    "\n",
    "    transcriptAudioSections = [trascribe_audio[i:i + sectionSizeSeconds*trascribe_sample_rate]\n",
    "                    for i in range(0, len(trascribe_audio), sectionSizeSeconds*trascribe_sample_rate)]\n",
    "\n",
    "    transcriptAudioSections[-1] = librosa.util.fix_length(transcriptAudioSections[-1], size=trascribe_sample_rate*sectionSizeSeconds)\n",
    "\n",
    "    for i in range(len(audio_sections)):\n",
    "        # print(os.path.join(folder_path, audio_file))\n",
    "        x = np.array(librosa.feature.mfcc(y=audio_sections[i], sr=sample_rate, n_mfcc=n_mfcc))\n",
    "        x = np.expand_dims(x, axis=0)\n",
    "        screamResult = screamModel.predict(x, verbose=0)\n",
    "        emotionsResult = emotionModel.predict(x, verbose=0)\n",
    "        transcription = transcriptModel.transcribe(transcriptAudioSections[i], verbose=0, language=\"portuguese\")['text']\n",
    "        nlpResult = classifier.predict([transcription], verbose=0)\n",
    "        print(f\"[{i*10} até {(i+1)*10}]: \", end=' ')\n",
    "        print(f\"Raiva + Nojo = {emotionsResult[0][2] + emotionsResult[0][3]}\")\n",
    "        print(f\"Resultado Grito: {screamResult[0][0]} {screamResult[0][1]}\")\n",
    "        print(f\"Resultado NLP: {nlpResult}\")\n",
    "        Block = False\n",
    "        if(screamResult[0][0] < screamResult[0][1]):\n",
    "            Block = True\n",
    "            print(\"Bloquado por Grito\")\n",
    "        raivaNojo = emotionsResult[0][2] + emotionsResult[0][3]\n",
    "        otherEmotions = sum(emotionsResult[0]) - raivaNojo\n",
    "        if(raivaNojo > otherEmotions):\n",
    "            Block = True\n",
    "            print(\"Bloquado por Raiva ou Nojo\")\n",
    "        if(nlpResult[0][0] > nlpResult[0][1]):\n",
    "            Block = True\n",
    "            print(\"Bloquado por NLP\", end=' ')\n",
    "        print(f\"Transcrição: {transcription}\")\n",
    "        print(\"Bloquear\" if Block else \"Liberar\")\n"
   ]
  }
 ],
 "metadata": {
  "kernelspec": {
   "display_name": "env_nlp",
   "language": "python",
   "name": "python3"
  },
  "language_info": {
   "codemirror_mode": {
    "name": "ipython",
    "version": 3
   },
   "file_extension": ".py",
   "mimetype": "text/x-python",
   "name": "python",
   "nbconvert_exporter": "python",
   "pygments_lexer": "ipython3",
   "version": "3.10.12"
  }
 },
 "nbformat": 4,
 "nbformat_minor": 2
}
