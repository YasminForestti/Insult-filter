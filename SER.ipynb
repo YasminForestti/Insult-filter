{
 "cells": [
  {
   "cell_type": "code",
   "execution_count": null,
   "metadata": {},
   "outputs": [],
   "source": [
    "# !pip install tensorflow librosa matplotlib joblib glob"
   ]
  },
  {
   "cell_type": "code",
   "execution_count": 1,
   "metadata": {},
   "outputs": [],
   "source": [
    "import numpy as np\n",
    "import os\n",
    "import librosa\n",
    "import joblib\n",
    "from glob import glob\n",
    "import IPython.display as ipd"
   ]
  },
  {
   "cell_type": "code",
   "execution_count": 2,
   "metadata": {},
   "outputs": [],
   "source": [
    "example_audio = glob('/home/gta/chiacchio/ProcVoz/dataEmotion/*/*.wav')[0]"
   ]
  },
  {
   "cell_type": "code",
   "execution_count": 3,
   "metadata": {},
   "outputs": [
    {
     "data": {
      "text/html": [
       "\n",
       "                <audio  controls=\"controls\" >\n",
       "                    <source src=\"data:audio/wav;base64,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\" type=\"audio/wav\" />\n",
       "                    Your browser does not support the audio element.\n",
       "                </audio>\n",
       "              "
      ],
      "text/plain": [
       "<IPython.lib.display.Audio object>"
      ]
     },
     "execution_count": 3,
     "metadata": {},
     "output_type": "execute_result"
    }
   ],
   "source": [
    "# Resample the audio to a different sample rate\n",
    "resampled_audio, _ = librosa.load(example_audio, sr=4000)\n",
    "ipd.Audio(resampled_audio, rate=4000)\n",
    "# ipd.Audio(example_audio)"
   ]
  },
  {
   "cell_type": "markdown",
   "metadata": {},
   "source": [
    "Ler os arquivos de áudio para coletar os coeficientes e os os labels. Os labels serão divididos da seguinte maneira:\n",
    "- Anger: 0\n",
    "- Disgust: 1\n",
    "- Fear: 2\n",
    "- Happy: 3\n",
    "- Neutral: 4\n",
    "- Sad: 5"
   ]
  },
  {
   "cell_type": "code",
   "execution_count": 4,
   "metadata": {},
   "outputs": [
    {
     "name": "stdout",
     "output_type": "stream",
     "text": [
      "[0.00223407 0.00304511 0.00159415 ... 0.         0.         0.        ] 4000 40000\n"
     ]
    },
    {
     "data": {
      "text/plain": [
       "(64, 79)"
      ]
     },
     "execution_count": 4,
     "metadata": {},
     "output_type": "execute_result"
    }
   ],
   "source": [
    "sr = 4000\n",
    "x, sr = librosa.load(example_audio, sr=sr)\n",
    "x = librosa.util.fix_length(x, size=sr*10)\n",
    "print(x, sr, len(x))\n",
    "\n",
    "librosa.feature.mfcc(y=x, sr=sr, n_mfcc=64).shape"
   ]
  },
  {
   "cell_type": "code",
   "execution_count": 5,
   "metadata": {},
   "outputs": [],
   "source": [
    "base_dir = '/home/gta/chiacchio/ProcVoz/dataEmotion/'"
   ]
  },
  {
   "cell_type": "code",
   "execution_count": 6,
   "metadata": {},
   "outputs": [
    {
     "data": {
      "text/plain": [
       "54490"
      ]
     },
     "execution_count": 6,
     "metadata": {},
     "output_type": "execute_result"
    }
   ],
   "source": [
    "len(glob(base_dir + '*/*.wav'))"
   ]
  },
  {
   "cell_type": "code",
   "execution_count": 7,
   "metadata": {},
   "outputs": [
    {
     "ename": "ValueError",
     "evalue": "max() arg is an empty sequence",
     "output_type": "error",
     "traceback": [
      "\u001b[0;31m---------------------------------------------------------------------------\u001b[0m",
      "\u001b[0;31mValueError\u001b[0m                                Traceback (most recent call last)",
      "Cell \u001b[0;32mIn[7], line 1\u001b[0m\n\u001b[0;32m----> 1\u001b[0m max_len \u001b[38;5;241m=\u001b[39m \u001b[38;5;28;43mmax\u001b[39;49m\u001b[43m(\u001b[49m\u001b[43m[\u001b[49m\u001b[43mlibrosa\u001b[49m\u001b[38;5;241;43m.\u001b[39;49m\u001b[43mget_duration\u001b[49m\u001b[43m(\u001b[49m\u001b[43mpath\u001b[49m\u001b[38;5;241;43m=\u001b[39;49m\u001b[43maudio_file\u001b[49m\u001b[43m)\u001b[49m\u001b[43m \u001b[49m\u001b[38;5;28;43;01mfor\u001b[39;49;00m\u001b[43m \u001b[49m\u001b[43maudio_file\u001b[49m\u001b[43m \u001b[49m\u001b[38;5;129;43;01min\u001b[39;49;00m\u001b[43m \u001b[49m\u001b[43mglob\u001b[49m\u001b[43m(\u001b[49m\u001b[38;5;124;43m'\u001b[39;49m\u001b[38;5;124;43mdataEmotion/*/*.wav\u001b[39;49m\u001b[38;5;124;43m'\u001b[39;49m\u001b[43m)\u001b[49m\u001b[43m]\u001b[49m\u001b[43m)\u001b[49m\n\u001b[1;32m      2\u001b[0m min_len \u001b[38;5;241m=\u001b[39m \u001b[38;5;28mmin\u001b[39m([librosa\u001b[38;5;241m.\u001b[39mget_duration(path\u001b[38;5;241m=\u001b[39maudio_file) \u001b[38;5;28;01mfor\u001b[39;00m audio_file \u001b[38;5;129;01min\u001b[39;00m glob(\u001b[38;5;124m'\u001b[39m\u001b[38;5;124mdataEmotion/*/*.wav\u001b[39m\u001b[38;5;124m'\u001b[39m)])\n\u001b[1;32m      3\u001b[0m \u001b[38;5;28mprint\u001b[39m(\u001b[38;5;124m'\u001b[39m\u001b[38;5;124mmin_index: \u001b[39m\u001b[38;5;124m'\u001b[39m, [librosa\u001b[38;5;241m.\u001b[39mget_duration(path\u001b[38;5;241m=\u001b[39maudio_file) \u001b[38;5;28;01mfor\u001b[39;00m audio_file \u001b[38;5;129;01min\u001b[39;00m glob(\u001b[38;5;124m'\u001b[39m\u001b[38;5;124mdataEmotion/*/*.wav\u001b[39m\u001b[38;5;124m'\u001b[39m)]\u001b[38;5;241m.\u001b[39mindex(min_len))\n",
      "\u001b[0;31mValueError\u001b[0m: max() arg is an empty sequence"
     ]
    }
   ],
   "source": [
    "max_len = max([librosa.get_duration(path=audio_file) for audio_file in glob('dataEmotion/*/*.wav')])\n",
    "min_len = min([librosa.get_duration(path=audio_file) for audio_file in glob('dataEmotion/*/*.wav')])\n",
    "print('min_index: ', [librosa.get_duration(path=audio_file) for audio_file in glob('dataEmotion/*/*.wav')].index(min_len))\n",
    "min_len, max_len"
   ]
  },
  {
   "cell_type": "code",
   "execution_count": 11,
   "metadata": {},
   "outputs": [
    {
     "name": "stdout",
     "output_type": "stream",
     "text": [
      "9315 anger audio files loaded9315 anger audio files loaded\n",
      "9315 disgust audio files loaded9315 disgust audio files loaded\n",
      "9315 fear audio files loaded9315 fear audio files loaded\n",
      "9315 happy audio files loaded9315 happy audio files loaded\n",
      "7915 neutral audio files loaded7915 neutral audio files loaded\n",
      "9315 sad audio files loaded9315 sad audio files loaded\n"
     ]
    }
   ],
   "source": [
    "label_map = {'anger': 0, 'disgust': 1, 'fear': 2, 'happy': 3, 'neutral': 4, 'sad': 5}\n",
    "lst = []\n",
    "number_of_audios_per_class = -1 # set -1 for all audios\n",
    "sr = 4000\n",
    "n_mfcc = 64\n",
    "\n",
    "for emotion in label_map.keys():\n",
    "    folder_path = os.path.join(base_dir, emotion)\n",
    "    audios_number = 0\n",
    "    # Iterate over the audio files in the folder\n",
    "    for audio_file in glob(base_dir + emotion + '/*.wav'):\n",
    "        # print(os.path.join(folder_path, audio_file))\n",
    "        x, sample_rate = librosa.load(audio_file, sr=sr)\n",
    "        x = librosa.util.fix_length(x, size=int(sr*10))\n",
    "        mfccs = np.array(librosa.feature.mfcc(y=x, sr=sr, n_mfcc=n_mfcc))\n",
    "        label = label_map[emotion]\n",
    "        arr = mfccs, label\n",
    "        lst.append(arr)\n",
    "        audios_number += 1\n",
    "        if(audios_number == number_of_audios_per_class): break\n",
    "        print(f'\\r{audios_number} {emotion} audio files loaded', end='')\n",
    "    print(audios_number, emotion, 'audio files loaded')"
   ]
  },
  {
   "cell_type": "code",
   "execution_count": 12,
   "metadata": {},
   "outputs": [],
   "source": [
    "x, y = zip(*lst)"
   ]
  },
  {
   "cell_type": "code",
   "execution_count": 13,
   "metadata": {},
   "outputs": [],
   "source": [
    "x = np.asarray(x)\n",
    "y = np.asarray(y)"
   ]
  },
  {
   "cell_type": "code",
   "execution_count": 14,
   "metadata": {},
   "outputs": [],
   "source": [
    "import joblib"
   ]
  },
  {
   "cell_type": "code",
   "execution_count": 15,
   "metadata": {},
   "outputs": [],
   "source": [
    "\n",
    "\n",
    "X_name = 'x.joblib'\n",
    "y_name = 'y.joblib'\n",
    "save_dir = base_dir\n",
    "\n",
    "savedX = joblib.dump(x, os.path.join(save_dir, X_name))\n",
    "savedy = joblib.dump(y, os.path.join(save_dir, y_name))"
   ]
  },
  {
   "cell_type": "code",
   "execution_count": 7,
   "metadata": {},
   "outputs": [],
   "source": [
    "x = joblib.load(base_dir + 'x.joblib')\n",
    "y = joblib.load(base_dir + 'y.joblib')"
   ]
  },
  {
   "cell_type": "code",
   "execution_count": 8,
   "metadata": {},
   "outputs": [
    {
     "data": {
      "text/plain": [
       "((64, 79), (54490, 64, 79), (54490,))"
      ]
     },
     "execution_count": 8,
     "metadata": {},
     "output_type": "execute_result"
    }
   ],
   "source": [
    "input_shape = x[0].shape\n",
    "input_shape, x.shape, y.shape"
   ]
  },
  {
   "cell_type": "code",
   "execution_count": 9,
   "metadata": {},
   "outputs": [],
   "source": [
    "from sklearn.model_selection import train_test_split\n",
    "\n",
    "X_train, X_test, y_train, y_test = train_test_split(x, y, test_size=0.33, random_state=42)"
   ]
  },
  {
   "cell_type": "markdown",
   "metadata": {},
   "source": [
    "## Neural Network"
   ]
  },
  {
   "cell_type": "code",
   "execution_count": 10,
   "metadata": {},
   "outputs": [],
   "source": [
    "# x_traincnn = np.expand_dims(X_train, axis=2)\n",
    "# x_testcnn = np.expand_dims(X_test, axis=2)\n",
    "\n",
    "x_traincnn = X_train\n",
    "x_testcnn = X_test"
   ]
  },
  {
   "cell_type": "code",
   "execution_count": 11,
   "metadata": {},
   "outputs": [
    {
     "data": {
      "text/plain": [
       "((36508, 64, 79), (17982, 64, 79))"
      ]
     },
     "execution_count": 11,
     "metadata": {},
     "output_type": "execute_result"
    }
   ],
   "source": [
    "x_traincnn.shape, x_testcnn.shape"
   ]
  },
  {
   "cell_type": "code",
   "execution_count": 12,
   "metadata": {},
   "outputs": [],
   "source": [
    "import os\n",
    "os.environ[\"CUDA_VISIBLE_DEVICES\"] = \"\""
   ]
  },
  {
   "cell_type": "code",
   "execution_count": 13,
   "metadata": {},
   "outputs": [
    {
     "name": "stderr",
     "output_type": "stream",
     "text": [
      "2024-11-13 21:37:31.709354: E external/local_xla/xla/stream_executor/cuda/cuda_fft.cc:477] Unable to register cuFFT factory: Attempting to register factory for plugin cuFFT when one has already been registered\n",
      "WARNING: All log messages before absl::InitializeLog() is called are written to STDERR\n",
      "E0000 00:00:1731544651.722803  539126 cuda_dnn.cc:8310] Unable to register cuDNN factory: Attempting to register factory for plugin cuDNN when one has already been registered\n",
      "E0000 00:00:1731544651.726613  539126 cuda_blas.cc:1418] Unable to register cuBLAS factory: Attempting to register factory for plugin cuBLAS when one has already been registered\n",
      "2024-11-13 21:37:31.739995: I tensorflow/core/platform/cpu_feature_guard.cc:210] This TensorFlow binary is optimized to use available CPU instructions in performance-critical operations.\n",
      "To enable the following instructions: AVX2 FMA, in other operations, rebuild TensorFlow with the appropriate compiler flags.\n"
     ]
    },
    {
     "name": "stdout",
     "output_type": "stream",
     "text": [
      "Num GPUs Available:  0\n",
      "Available GPUs:  []\n"
     ]
    },
    {
     "name": "stderr",
     "output_type": "stream",
     "text": [
      "2024-11-13 21:37:32.776322: E external/local_xla/xla/stream_executor/cuda/cuda_driver.cc:152] failed call to cuInit: INTERNAL: CUDA error: Failed call to cuInit: CUDA_ERROR_NO_DEVICE: no CUDA-capable device is detected\n",
      "2024-11-13 21:37:32.776364: I external/local_xla/xla/stream_executor/cuda/cuda_diagnostics.cc:137] retrieving CUDA diagnostic information for host: paodeacucar\n",
      "2024-11-13 21:37:32.776369: I external/local_xla/xla/stream_executor/cuda/cuda_diagnostics.cc:144] hostname: paodeacucar\n",
      "2024-11-13 21:37:32.776435: I external/local_xla/xla/stream_executor/cuda/cuda_diagnostics.cc:168] libcuda reported version is: 565.57.1\n",
      "2024-11-13 21:37:32.776450: I external/local_xla/xla/stream_executor/cuda/cuda_diagnostics.cc:172] kernel reported version is: 565.57.1\n",
      "2024-11-13 21:37:32.776454: I external/local_xla/xla/stream_executor/cuda/cuda_diagnostics.cc:259] kernel version seems to match DSO: 565.57.1\n"
     ]
    }
   ],
   "source": [
    "import keras\n",
    "import numpy as np\n",
    "import tensorflow as tf\n",
    "from keras.preprocessing import sequence\n",
    "from keras.models import Sequential\n",
    "from keras.layers import Dense, Embedding\n",
    "from keras.utils import to_categorical\n",
    "from keras.layers import Input, Flatten, Dropout, Activation\n",
    "from keras.layers import Conv1D, MaxPooling1D\n",
    "from keras.models import Model\n",
    "from keras.callbacks import ModelCheckpoint\n",
    "from tensorflow.keras import optimizers\n",
    "\n",
    "print(\"Num GPUs Available: \", len(tf.config.experimental.list_physical_devices('GPU')))\n",
    "\n",
    "# List available GPUs\n",
    "print(\"Available GPUs: \", tf.config.experimental.list_physical_devices('GPU'))"
   ]
  },
  {
   "cell_type": "code",
   "execution_count": 48,
   "metadata": {},
   "outputs": [
    {
     "name": "stdout",
     "output_type": "stream",
     "text": [
      "              precision    recall  f1-score   support\n",
      "\n",
      "           0       0.45      0.84      0.59      3167\n",
      "           1       0.53      0.48      0.50      3065\n",
      "           2       0.69      0.38      0.49      3002\n",
      "           3       0.60      0.45      0.51      3114\n",
      "           4       0.65      0.50      0.56      2568\n",
      "           5       0.56      0.62      0.59      3066\n",
      "\n",
      "    accuracy                           0.55     17982\n",
      "   macro avg       0.58      0.54      0.54     17982\n",
      "weighted avg       0.58      0.55      0.54     17982\n",
      "\n"
     ]
    }
   ],
   "source": [
    "from sklearn.metrics import classification_report\n",
    "report = classification_report(y_test, predictions)\n",
    "print(report)"
   ]
  },
  {
   "cell_type": "markdown",
   "metadata": {},
   "source": [
    "## Modelo https://www.kaggle.com/code/shivamburnwal/speech-emotion-recognition?scriptVersionId=34958802&cellId=52"
   ]
  },
  {
   "cell_type": "markdown",
   "metadata": {},
   "source": [
    "Acurácia de 0.79"
   ]
  },
  {
   "cell_type": "code",
   "execution_count": 14,
   "metadata": {},
   "outputs": [],
   "source": [
    "from keras.layers import Conv1D, MaxPooling1D, Flatten, Dense, Dropout, BatchNormalization"
   ]
  },
  {
   "cell_type": "code",
   "execution_count": 15,
   "metadata": {},
   "outputs": [
    {
     "name": "stderr",
     "output_type": "stream",
     "text": [
      "/home/gta/chiacchio/ProcVoz/nlp/env_nlp/lib/python3.10/site-packages/keras/src/layers/convolutional/base_conv.py:107: UserWarning: Do not pass an `input_shape`/`input_dim` argument to a layer. When using Sequential models, prefer using an `Input(shape)` object as the first layer in the model instead.\n",
      "  super().__init__(activity_regularizer=activity_regularizer, **kwargs)\n"
     ]
    },
    {
     "data": {
      "text/html": [
       "<pre style=\"white-space:pre;overflow-x:auto;line-height:normal;font-family:Menlo,'DejaVu Sans Mono',consolas,'Courier New',monospace\"><span style=\"font-weight: bold\">Model: \"sequential\"</span>\n",
       "</pre>\n"
      ],
      "text/plain": [
       "\u001b[1mModel: \"sequential\"\u001b[0m\n"
      ]
     },
     "metadata": {},
     "output_type": "display_data"
    },
    {
     "data": {
      "text/html": [
       "<pre style=\"white-space:pre;overflow-x:auto;line-height:normal;font-family:Menlo,'DejaVu Sans Mono',consolas,'Courier New',monospace\">┏━━━━━━━━━━━━━━━━━━━━━━━━━━━━━━━━━┳━━━━━━━━━━━━━━━━━━━━━━━━┳━━━━━━━━━━━━━━━┓\n",
       "┃<span style=\"font-weight: bold\"> Layer (type)                    </span>┃<span style=\"font-weight: bold\"> Output Shape           </span>┃<span style=\"font-weight: bold\">       Param # </span>┃\n",
       "┡━━━━━━━━━━━━━━━━━━━━━━━━━━━━━━━━━╇━━━━━━━━━━━━━━━━━━━━━━━━╇━━━━━━━━━━━━━━━┩\n",
       "│ conv1d (<span style=\"color: #0087ff; text-decoration-color: #0087ff\">Conv1D</span>)                 │ (<span style=\"color: #00d7ff; text-decoration-color: #00d7ff\">None</span>, <span style=\"color: #00af00; text-decoration-color: #00af00\">64</span>, <span style=\"color: #00af00; text-decoration-color: #00af00\">256</span>)        │       <span style=\"color: #00af00; text-decoration-color: #00af00\">101,376</span> │\n",
       "├─────────────────────────────────┼────────────────────────┼───────────────┤\n",
       "│ batch_normalization             │ (<span style=\"color: #00d7ff; text-decoration-color: #00d7ff\">None</span>, <span style=\"color: #00af00; text-decoration-color: #00af00\">64</span>, <span style=\"color: #00af00; text-decoration-color: #00af00\">256</span>)        │         <span style=\"color: #00af00; text-decoration-color: #00af00\">1,024</span> │\n",
       "│ (<span style=\"color: #0087ff; text-decoration-color: #0087ff\">BatchNormalization</span>)            │                        │               │\n",
       "├─────────────────────────────────┼────────────────────────┼───────────────┤\n",
       "│ max_pooling1d (<span style=\"color: #0087ff; text-decoration-color: #0087ff\">MaxPooling1D</span>)    │ (<span style=\"color: #00d7ff; text-decoration-color: #00d7ff\">None</span>, <span style=\"color: #00af00; text-decoration-color: #00af00\">32</span>, <span style=\"color: #00af00; text-decoration-color: #00af00\">256</span>)        │             <span style=\"color: #00af00; text-decoration-color: #00af00\">0</span> │\n",
       "├─────────────────────────────────┼────────────────────────┼───────────────┤\n",
       "│ conv1d_1 (<span style=\"color: #0087ff; text-decoration-color: #0087ff\">Conv1D</span>)               │ (<span style=\"color: #00d7ff; text-decoration-color: #00d7ff\">None</span>, <span style=\"color: #00af00; text-decoration-color: #00af00\">32</span>, <span style=\"color: #00af00; text-decoration-color: #00af00\">256</span>)        │       <span style=\"color: #00af00; text-decoration-color: #00af00\">327,936</span> │\n",
       "├─────────────────────────────────┼────────────────────────┼───────────────┤\n",
       "│ max_pooling1d_1 (<span style=\"color: #0087ff; text-decoration-color: #0087ff\">MaxPooling1D</span>)  │ (<span style=\"color: #00d7ff; text-decoration-color: #00d7ff\">None</span>, <span style=\"color: #00af00; text-decoration-color: #00af00\">16</span>, <span style=\"color: #00af00; text-decoration-color: #00af00\">256</span>)        │             <span style=\"color: #00af00; text-decoration-color: #00af00\">0</span> │\n",
       "├─────────────────────────────────┼────────────────────────┼───────────────┤\n",
       "│ conv1d_2 (<span style=\"color: #0087ff; text-decoration-color: #0087ff\">Conv1D</span>)               │ (<span style=\"color: #00d7ff; text-decoration-color: #00d7ff\">None</span>, <span style=\"color: #00af00; text-decoration-color: #00af00\">16</span>, <span style=\"color: #00af00; text-decoration-color: #00af00\">128</span>)        │       <span style=\"color: #00af00; text-decoration-color: #00af00\">163,968</span> │\n",
       "├─────────────────────────────────┼────────────────────────┼───────────────┤\n",
       "│ max_pooling1d_2 (<span style=\"color: #0087ff; text-decoration-color: #0087ff\">MaxPooling1D</span>)  │ (<span style=\"color: #00d7ff; text-decoration-color: #00d7ff\">None</span>, <span style=\"color: #00af00; text-decoration-color: #00af00\">8</span>, <span style=\"color: #00af00; text-decoration-color: #00af00\">128</span>)         │             <span style=\"color: #00af00; text-decoration-color: #00af00\">0</span> │\n",
       "├─────────────────────────────────┼────────────────────────┼───────────────┤\n",
       "│ dropout (<span style=\"color: #0087ff; text-decoration-color: #0087ff\">Dropout</span>)               │ (<span style=\"color: #00d7ff; text-decoration-color: #00d7ff\">None</span>, <span style=\"color: #00af00; text-decoration-color: #00af00\">8</span>, <span style=\"color: #00af00; text-decoration-color: #00af00\">128</span>)         │             <span style=\"color: #00af00; text-decoration-color: #00af00\">0</span> │\n",
       "├─────────────────────────────────┼────────────────────────┼───────────────┤\n",
       "│ conv1d_3 (<span style=\"color: #0087ff; text-decoration-color: #0087ff\">Conv1D</span>)               │ (<span style=\"color: #00d7ff; text-decoration-color: #00d7ff\">None</span>, <span style=\"color: #00af00; text-decoration-color: #00af00\">8</span>, <span style=\"color: #00af00; text-decoration-color: #00af00\">64</span>)          │        <span style=\"color: #00af00; text-decoration-color: #00af00\">41,024</span> │\n",
       "├─────────────────────────────────┼────────────────────────┼───────────────┤\n",
       "│ max_pooling1d_3 (<span style=\"color: #0087ff; text-decoration-color: #0087ff\">MaxPooling1D</span>)  │ (<span style=\"color: #00d7ff; text-decoration-color: #00d7ff\">None</span>, <span style=\"color: #00af00; text-decoration-color: #00af00\">4</span>, <span style=\"color: #00af00; text-decoration-color: #00af00\">64</span>)          │             <span style=\"color: #00af00; text-decoration-color: #00af00\">0</span> │\n",
       "├─────────────────────────────────┼────────────────────────┼───────────────┤\n",
       "│ flatten (<span style=\"color: #0087ff; text-decoration-color: #0087ff\">Flatten</span>)               │ (<span style=\"color: #00d7ff; text-decoration-color: #00d7ff\">None</span>, <span style=\"color: #00af00; text-decoration-color: #00af00\">256</span>)            │             <span style=\"color: #00af00; text-decoration-color: #00af00\">0</span> │\n",
       "├─────────────────────────────────┼────────────────────────┼───────────────┤\n",
       "│ dense (<span style=\"color: #0087ff; text-decoration-color: #0087ff\">Dense</span>)                   │ (<span style=\"color: #00d7ff; text-decoration-color: #00d7ff\">None</span>, <span style=\"color: #00af00; text-decoration-color: #00af00\">32</span>)             │         <span style=\"color: #00af00; text-decoration-color: #00af00\">8,224</span> │\n",
       "├─────────────────────────────────┼────────────────────────┼───────────────┤\n",
       "│ dropout_1 (<span style=\"color: #0087ff; text-decoration-color: #0087ff\">Dropout</span>)             │ (<span style=\"color: #00d7ff; text-decoration-color: #00d7ff\">None</span>, <span style=\"color: #00af00; text-decoration-color: #00af00\">32</span>)             │             <span style=\"color: #00af00; text-decoration-color: #00af00\">0</span> │\n",
       "├─────────────────────────────────┼────────────────────────┼───────────────┤\n",
       "│ batch_normalization_1           │ (<span style=\"color: #00d7ff; text-decoration-color: #00d7ff\">None</span>, <span style=\"color: #00af00; text-decoration-color: #00af00\">32</span>)             │           <span style=\"color: #00af00; text-decoration-color: #00af00\">128</span> │\n",
       "│ (<span style=\"color: #0087ff; text-decoration-color: #0087ff\">BatchNormalization</span>)            │                        │               │\n",
       "├─────────────────────────────────┼────────────────────────┼───────────────┤\n",
       "│ dense_1 (<span style=\"color: #0087ff; text-decoration-color: #0087ff\">Dense</span>)                 │ (<span style=\"color: #00d7ff; text-decoration-color: #00d7ff\">None</span>, <span style=\"color: #00af00; text-decoration-color: #00af00\">6</span>)              │           <span style=\"color: #00af00; text-decoration-color: #00af00\">198</span> │\n",
       "└─────────────────────────────────┴────────────────────────┴───────────────┘\n",
       "</pre>\n"
      ],
      "text/plain": [
       "┏━━━━━━━━━━━━━━━━━━━━━━━━━━━━━━━━━┳━━━━━━━━━━━━━━━━━━━━━━━━┳━━━━━━━━━━━━━━━┓\n",
       "┃\u001b[1m \u001b[0m\u001b[1mLayer (type)                   \u001b[0m\u001b[1m \u001b[0m┃\u001b[1m \u001b[0m\u001b[1mOutput Shape          \u001b[0m\u001b[1m \u001b[0m┃\u001b[1m \u001b[0m\u001b[1m      Param #\u001b[0m\u001b[1m \u001b[0m┃\n",
       "┡━━━━━━━━━━━━━━━━━━━━━━━━━━━━━━━━━╇━━━━━━━━━━━━━━━━━━━━━━━━╇━━━━━━━━━━━━━━━┩\n",
       "│ conv1d (\u001b[38;5;33mConv1D\u001b[0m)                 │ (\u001b[38;5;45mNone\u001b[0m, \u001b[38;5;34m64\u001b[0m, \u001b[38;5;34m256\u001b[0m)        │       \u001b[38;5;34m101,376\u001b[0m │\n",
       "├─────────────────────────────────┼────────────────────────┼───────────────┤\n",
       "│ batch_normalization             │ (\u001b[38;5;45mNone\u001b[0m, \u001b[38;5;34m64\u001b[0m, \u001b[38;5;34m256\u001b[0m)        │         \u001b[38;5;34m1,024\u001b[0m │\n",
       "│ (\u001b[38;5;33mBatchNormalization\u001b[0m)            │                        │               │\n",
       "├─────────────────────────────────┼────────────────────────┼───────────────┤\n",
       "│ max_pooling1d (\u001b[38;5;33mMaxPooling1D\u001b[0m)    │ (\u001b[38;5;45mNone\u001b[0m, \u001b[38;5;34m32\u001b[0m, \u001b[38;5;34m256\u001b[0m)        │             \u001b[38;5;34m0\u001b[0m │\n",
       "├─────────────────────────────────┼────────────────────────┼───────────────┤\n",
       "│ conv1d_1 (\u001b[38;5;33mConv1D\u001b[0m)               │ (\u001b[38;5;45mNone\u001b[0m, \u001b[38;5;34m32\u001b[0m, \u001b[38;5;34m256\u001b[0m)        │       \u001b[38;5;34m327,936\u001b[0m │\n",
       "├─────────────────────────────────┼────────────────────────┼───────────────┤\n",
       "│ max_pooling1d_1 (\u001b[38;5;33mMaxPooling1D\u001b[0m)  │ (\u001b[38;5;45mNone\u001b[0m, \u001b[38;5;34m16\u001b[0m, \u001b[38;5;34m256\u001b[0m)        │             \u001b[38;5;34m0\u001b[0m │\n",
       "├─────────────────────────────────┼────────────────────────┼───────────────┤\n",
       "│ conv1d_2 (\u001b[38;5;33mConv1D\u001b[0m)               │ (\u001b[38;5;45mNone\u001b[0m, \u001b[38;5;34m16\u001b[0m, \u001b[38;5;34m128\u001b[0m)        │       \u001b[38;5;34m163,968\u001b[0m │\n",
       "├─────────────────────────────────┼────────────────────────┼───────────────┤\n",
       "│ max_pooling1d_2 (\u001b[38;5;33mMaxPooling1D\u001b[0m)  │ (\u001b[38;5;45mNone\u001b[0m, \u001b[38;5;34m8\u001b[0m, \u001b[38;5;34m128\u001b[0m)         │             \u001b[38;5;34m0\u001b[0m │\n",
       "├─────────────────────────────────┼────────────────────────┼───────────────┤\n",
       "│ dropout (\u001b[38;5;33mDropout\u001b[0m)               │ (\u001b[38;5;45mNone\u001b[0m, \u001b[38;5;34m8\u001b[0m, \u001b[38;5;34m128\u001b[0m)         │             \u001b[38;5;34m0\u001b[0m │\n",
       "├─────────────────────────────────┼────────────────────────┼───────────────┤\n",
       "│ conv1d_3 (\u001b[38;5;33mConv1D\u001b[0m)               │ (\u001b[38;5;45mNone\u001b[0m, \u001b[38;5;34m8\u001b[0m, \u001b[38;5;34m64\u001b[0m)          │        \u001b[38;5;34m41,024\u001b[0m │\n",
       "├─────────────────────────────────┼────────────────────────┼───────────────┤\n",
       "│ max_pooling1d_3 (\u001b[38;5;33mMaxPooling1D\u001b[0m)  │ (\u001b[38;5;45mNone\u001b[0m, \u001b[38;5;34m4\u001b[0m, \u001b[38;5;34m64\u001b[0m)          │             \u001b[38;5;34m0\u001b[0m │\n",
       "├─────────────────────────────────┼────────────────────────┼───────────────┤\n",
       "│ flatten (\u001b[38;5;33mFlatten\u001b[0m)               │ (\u001b[38;5;45mNone\u001b[0m, \u001b[38;5;34m256\u001b[0m)            │             \u001b[38;5;34m0\u001b[0m │\n",
       "├─────────────────────────────────┼────────────────────────┼───────────────┤\n",
       "│ dense (\u001b[38;5;33mDense\u001b[0m)                   │ (\u001b[38;5;45mNone\u001b[0m, \u001b[38;5;34m32\u001b[0m)             │         \u001b[38;5;34m8,224\u001b[0m │\n",
       "├─────────────────────────────────┼────────────────────────┼───────────────┤\n",
       "│ dropout_1 (\u001b[38;5;33mDropout\u001b[0m)             │ (\u001b[38;5;45mNone\u001b[0m, \u001b[38;5;34m32\u001b[0m)             │             \u001b[38;5;34m0\u001b[0m │\n",
       "├─────────────────────────────────┼────────────────────────┼───────────────┤\n",
       "│ batch_normalization_1           │ (\u001b[38;5;45mNone\u001b[0m, \u001b[38;5;34m32\u001b[0m)             │           \u001b[38;5;34m128\u001b[0m │\n",
       "│ (\u001b[38;5;33mBatchNormalization\u001b[0m)            │                        │               │\n",
       "├─────────────────────────────────┼────────────────────────┼───────────────┤\n",
       "│ dense_1 (\u001b[38;5;33mDense\u001b[0m)                 │ (\u001b[38;5;45mNone\u001b[0m, \u001b[38;5;34m6\u001b[0m)              │           \u001b[38;5;34m198\u001b[0m │\n",
       "└─────────────────────────────────┴────────────────────────┴───────────────┘\n"
      ]
     },
     "metadata": {},
     "output_type": "display_data"
    },
    {
     "data": {
      "text/html": [
       "<pre style=\"white-space:pre;overflow-x:auto;line-height:normal;font-family:Menlo,'DejaVu Sans Mono',consolas,'Courier New',monospace\"><span style=\"font-weight: bold\"> Total params: </span><span style=\"color: #00af00; text-decoration-color: #00af00\">643,878</span> (2.46 MB)\n",
       "</pre>\n"
      ],
      "text/plain": [
       "\u001b[1m Total params: \u001b[0m\u001b[38;5;34m643,878\u001b[0m (2.46 MB)\n"
      ]
     },
     "metadata": {},
     "output_type": "display_data"
    },
    {
     "data": {
      "text/html": [
       "<pre style=\"white-space:pre;overflow-x:auto;line-height:normal;font-family:Menlo,'DejaVu Sans Mono',consolas,'Courier New',monospace\"><span style=\"font-weight: bold\"> Trainable params: </span><span style=\"color: #00af00; text-decoration-color: #00af00\">643,302</span> (2.45 MB)\n",
       "</pre>\n"
      ],
      "text/plain": [
       "\u001b[1m Trainable params: \u001b[0m\u001b[38;5;34m643,302\u001b[0m (2.45 MB)\n"
      ]
     },
     "metadata": {},
     "output_type": "display_data"
    },
    {
     "data": {
      "text/html": [
       "<pre style=\"white-space:pre;overflow-x:auto;line-height:normal;font-family:Menlo,'DejaVu Sans Mono',consolas,'Courier New',monospace\"><span style=\"font-weight: bold\"> Non-trainable params: </span><span style=\"color: #00af00; text-decoration-color: #00af00\">576</span> (2.25 KB)\n",
       "</pre>\n"
      ],
      "text/plain": [
       "\u001b[1m Non-trainable params: \u001b[0m\u001b[38;5;34m576\u001b[0m (2.25 KB)\n"
      ]
     },
     "metadata": {},
     "output_type": "display_data"
    }
   ],
   "source": [
    "model=Sequential()\n",
    "model.add(Conv1D(256, kernel_size=5, strides=1, padding='same', activation='relu', input_shape=input_shape))\n",
    "model.add(BatchNormalization())\n",
    "model.add(MaxPooling1D(pool_size=5, strides = 2, padding = 'same'))\n",
    "\n",
    "model.add(Conv1D(256, kernel_size=5, strides=1, padding='same', activation='relu'))\n",
    "model.add(MaxPooling1D(pool_size=5, strides = 2, padding = 'same'))\n",
    "\n",
    "model.add(Conv1D(128, kernel_size=5, strides=1, padding='same', activation='relu'))\n",
    "model.add(MaxPooling1D(pool_size=5, strides = 2, padding = 'same'))\n",
    "model.add(Dropout(0.2))\n",
    "\n",
    "model.add(Conv1D(64, kernel_size=5, strides=1, padding='same', activation='relu'))\n",
    "model.add(MaxPooling1D(pool_size=5, strides = 2, padding = 'same'))\n",
    "\n",
    "model.add(Flatten())\n",
    "model.add(Dense(units=32, activation='relu'))\n",
    "model.add(Dropout(0.3))\n",
    "model.add(BatchNormalization())\n",
    "\n",
    "model.add(Dense(units=6, activation='softmax'))\n",
    "model.compile(optimizer = 'adam' , loss = 'categorical_crossentropy' , metrics = ['accuracy'])\n",
    "\n",
    "model.summary()"
   ]
  },
  {
   "cell_type": "code",
   "execution_count": 16,
   "metadata": {},
   "outputs": [],
   "source": [
    "from tensorflow.keras.utils import to_categorical"
   ]
  },
  {
   "cell_type": "code",
   "execution_count": 17,
   "metadata": {},
   "outputs": [],
   "source": [
    "y_train_encoded = to_categorical(y_train, num_classes=6)\n",
    "y_test_encoded = to_categorical(y_test, num_classes=6)"
   ]
  },
  {
   "cell_type": "code",
   "execution_count": 18,
   "metadata": {},
   "outputs": [
    {
     "data": {
      "text/plain": [
       "(36508, 6)"
      ]
     },
     "execution_count": 18,
     "metadata": {},
     "output_type": "execute_result"
    }
   ],
   "source": [
    "y_train_encoded.shape"
   ]
  },
  {
   "cell_type": "code",
   "execution_count": 19,
   "metadata": {},
   "outputs": [
    {
     "name": "stdout",
     "output_type": "stream",
     "text": [
      "Epoch 1/100\n"
     ]
    },
    {
     "name": "stderr",
     "output_type": "stream",
     "text": [
      "2024-11-13 21:37:47.631424: W external/local_xla/xla/tsl/framework/cpu_allocator_impl.cc:83] Allocation of 738337792 exceeds 10% of free system memory.\n"
     ]
    },
    {
     "name": "stdout",
     "output_type": "stream",
     "text": [
      "\u001b[1m569/571\u001b[0m \u001b[32m━━━━━━━━━━━━━━━━━━━\u001b[0m\u001b[37m━\u001b[0m \u001b[1m0s\u001b[0m 28ms/step - accuracy: 0.2859 - loss: 1.7668"
     ]
    },
    {
     "name": "stderr",
     "output_type": "stream",
     "text": [
      "2024-11-13 21:38:05.275911: W external/local_xla/xla/tsl/framework/cpu_allocator_impl.cc:83] Allocation of 363667968 exceeds 10% of free system memory.\n"
     ]
    },
    {
     "name": "stdout",
     "output_type": "stream",
     "text": [
      "\u001b[1m571/571\u001b[0m \u001b[32m━━━━━━━━━━━━━━━━━━━━\u001b[0m\u001b[37m\u001b[0m \u001b[1m19s\u001b[0m 31ms/step - accuracy: 0.2864 - loss: 1.7655 - val_accuracy: 0.5482 - val_loss: 1.1757\n",
      "Epoch 2/100\n",
      "\u001b[1m571/571\u001b[0m \u001b[32m━━━━━━━━━━━━━━━━━━━━\u001b[0m\u001b[37m\u001b[0m \u001b[1m17s\u001b[0m 30ms/step - accuracy: 0.5451 - loss: 1.1781 - val_accuracy: 0.6098 - val_loss: 1.0091\n",
      "Epoch 3/100\n",
      "\u001b[1m571/571\u001b[0m \u001b[32m━━━━━━━━━━━━━━━━━━━━\u001b[0m\u001b[37m\u001b[0m \u001b[1m18s\u001b[0m 31ms/step - accuracy: 0.5849 - loss: 1.0788 - val_accuracy: 0.5710 - val_loss: 1.1489\n",
      "Epoch 4/100\n",
      "\u001b[1m571/571\u001b[0m \u001b[32m━━━━━━━━━━━━━━━━━━━━\u001b[0m\u001b[37m\u001b[0m \u001b[1m18s\u001b[0m 31ms/step - accuracy: 0.6327 - loss: 0.9781 - val_accuracy: 0.6499 - val_loss: 0.9116\n",
      "Epoch 5/100\n",
      "\u001b[1m571/571\u001b[0m \u001b[32m━━━━━━━━━━━━━━━━━━━━\u001b[0m\u001b[37m\u001b[0m \u001b[1m18s\u001b[0m 31ms/step - accuracy: 0.6752 - loss: 0.8884 - val_accuracy: 0.6920 - val_loss: 0.8129\n",
      "Epoch 6/100\n",
      "\u001b[1m571/571\u001b[0m \u001b[32m━━━━━━━━━━━━━━━━━━━━\u001b[0m\u001b[37m\u001b[0m \u001b[1m18s\u001b[0m 32ms/step - accuracy: 0.7025 - loss: 0.8138 - val_accuracy: 0.6984 - val_loss: 0.8158\n",
      "Epoch 7/100\n",
      "\u001b[1m571/571\u001b[0m \u001b[32m━━━━━━━━━━━━━━━━━━━━\u001b[0m\u001b[37m\u001b[0m \u001b[1m18s\u001b[0m 32ms/step - accuracy: 0.7346 - loss: 0.7357 - val_accuracy: 0.6596 - val_loss: 0.9345\n",
      "Epoch 8/100\n",
      "\u001b[1m571/571\u001b[0m \u001b[32m━━━━━━━━━━━━━━━━━━━━\u001b[0m\u001b[37m\u001b[0m \u001b[1m18s\u001b[0m 32ms/step - accuracy: 0.7614 - loss: 0.6677 - val_accuracy: 0.7421 - val_loss: 0.6984\n",
      "Epoch 9/100\n",
      "\u001b[1m571/571\u001b[0m \u001b[32m━━━━━━━━━━━━━━━━━━━━\u001b[0m\u001b[37m\u001b[0m \u001b[1m18s\u001b[0m 32ms/step - accuracy: 0.7961 - loss: 0.5822 - val_accuracy: 0.7565 - val_loss: 0.6673\n",
      "Epoch 10/100\n",
      "\u001b[1m571/571\u001b[0m \u001b[32m━━━━━━━━━━━━━━━━━━━━\u001b[0m\u001b[37m\u001b[0m \u001b[1m18s\u001b[0m 32ms/step - accuracy: 0.8174 - loss: 0.5266 - val_accuracy: 0.7575 - val_loss: 0.6821\n",
      "Epoch 11/100\n",
      "\u001b[1m571/571\u001b[0m \u001b[32m━━━━━━━━━━━━━━━━━━━━\u001b[0m\u001b[37m\u001b[0m \u001b[1m18s\u001b[0m 32ms/step - accuracy: 0.8391 - loss: 0.4704 - val_accuracy: 0.7640 - val_loss: 0.6814\n",
      "Epoch 12/100\n",
      "\u001b[1m571/571\u001b[0m \u001b[32m━━━━━━━━━━━━━━━━━━━━\u001b[0m\u001b[37m\u001b[0m \u001b[1m18s\u001b[0m 32ms/step - accuracy: 0.8602 - loss: 0.4137 - val_accuracy: 0.7438 - val_loss: 0.7566\n",
      "Epoch 13/100\n",
      "\u001b[1m571/571\u001b[0m \u001b[32m━━━━━━━━━━━━━━━━━━━━\u001b[0m\u001b[37m\u001b[0m \u001b[1m18s\u001b[0m 32ms/step - accuracy: 0.8728 - loss: 0.3809 - val_accuracy: 0.7951 - val_loss: 0.6398\n",
      "Epoch 14/100\n",
      "\u001b[1m571/571\u001b[0m \u001b[32m━━━━━━━━━━━━━━━━━━━━\u001b[0m\u001b[37m\u001b[0m \u001b[1m18s\u001b[0m 32ms/step - accuracy: 0.8912 - loss: 0.3226 - val_accuracy: 0.7744 - val_loss: 0.7331\n",
      "Epoch 15/100\n",
      "\u001b[1m571/571\u001b[0m \u001b[32m━━━━━━━━━━━━━━━━━━━━\u001b[0m\u001b[37m\u001b[0m \u001b[1m18s\u001b[0m 32ms/step - accuracy: 0.9043 - loss: 0.2884 - val_accuracy: 0.7705 - val_loss: 0.8027\n",
      "Epoch 16/100\n",
      "\u001b[1m571/571\u001b[0m \u001b[32m━━━━━━━━━━━━━━━━━━━━\u001b[0m\u001b[37m\u001b[0m \u001b[1m18s\u001b[0m 32ms/step - accuracy: 0.9160 - loss: 0.2537 - val_accuracy: 0.8159 - val_loss: 0.6262\n",
      "Epoch 17/100\n",
      "\u001b[1m571/571\u001b[0m \u001b[32m━━━━━━━━━━━━━━━━━━━━\u001b[0m\u001b[37m\u001b[0m \u001b[1m18s\u001b[0m 32ms/step - accuracy: 0.9269 - loss: 0.2313 - val_accuracy: 0.8076 - val_loss: 0.6432\n",
      "Epoch 18/100\n",
      "\u001b[1m571/571\u001b[0m \u001b[32m━━━━━━━━━━━━━━━━━━━━\u001b[0m\u001b[37m\u001b[0m \u001b[1m18s\u001b[0m 32ms/step - accuracy: 0.9362 - loss: 0.1955 - val_accuracy: 0.8050 - val_loss: 0.7213\n",
      "Epoch 19/100\n",
      "\u001b[1m571/571\u001b[0m \u001b[32m━━━━━━━━━━━━━━━━━━━━\u001b[0m\u001b[37m\u001b[0m \u001b[1m18s\u001b[0m 32ms/step - accuracy: 0.9414 - loss: 0.1808 - val_accuracy: 0.8299 - val_loss: 0.6339\n",
      "Epoch 20/100\n",
      "\u001b[1m571/571\u001b[0m \u001b[32m━━━━━━━━━━━━━━━━━━━━\u001b[0m\u001b[37m\u001b[0m \u001b[1m18s\u001b[0m 32ms/step - accuracy: 0.9450 - loss: 0.1700 - val_accuracy: 0.8112 - val_loss: 0.7521\n",
      "Epoch 21/100\n",
      "\u001b[1m571/571\u001b[0m \u001b[32m━━━━━━━━━━━━━━━━━━━━\u001b[0m\u001b[37m\u001b[0m \u001b[1m18s\u001b[0m 32ms/step - accuracy: 0.9450 - loss: 0.1684 - val_accuracy: 0.8301 - val_loss: 0.7143\n",
      "Epoch 22/100\n",
      "\u001b[1m571/571\u001b[0m \u001b[32m━━━━━━━━━━━━━━━━━━━━\u001b[0m\u001b[37m\u001b[0m \u001b[1m18s\u001b[0m 32ms/step - accuracy: 0.9475 - loss: 0.1558 - val_accuracy: 0.8119 - val_loss: 0.7379\n",
      "Epoch 23/100\n",
      "\u001b[1m571/571\u001b[0m \u001b[32m━━━━━━━━━━━━━━━━━━━━\u001b[0m\u001b[37m\u001b[0m \u001b[1m18s\u001b[0m 32ms/step - accuracy: 0.9551 - loss: 0.1397 - val_accuracy: 0.8073 - val_loss: 0.7641\n",
      "Epoch 24/100\n",
      "\u001b[1m571/571\u001b[0m \u001b[32m━━━━━━━━━━━━━━━━━━━━\u001b[0m\u001b[37m\u001b[0m \u001b[1m18s\u001b[0m 32ms/step - accuracy: 0.9510 - loss: 0.1516 - val_accuracy: 0.8359 - val_loss: 0.7141\n",
      "Epoch 25/100\n",
      "\u001b[1m571/571\u001b[0m \u001b[32m━━━━━━━━━━━━━━━━━━━━\u001b[0m\u001b[37m\u001b[0m \u001b[1m18s\u001b[0m 32ms/step - accuracy: 0.9599 - loss: 0.1239 - val_accuracy: 0.8267 - val_loss: 0.7294\n",
      "Epoch 26/100\n",
      "\u001b[1m571/571\u001b[0m \u001b[32m━━━━━━━━━━━━━━━━━━━━\u001b[0m\u001b[37m\u001b[0m \u001b[1m18s\u001b[0m 32ms/step - accuracy: 0.9594 - loss: 0.1260 - val_accuracy: 0.8349 - val_loss: 0.7195\n",
      "Epoch 27/100\n",
      "\u001b[1m571/571\u001b[0m \u001b[32m━━━━━━━━━━━━━━━━━━━━\u001b[0m\u001b[37m\u001b[0m \u001b[1m18s\u001b[0m 32ms/step - accuracy: 0.9586 - loss: 0.1319 - val_accuracy: 0.8245 - val_loss: 0.7104\n",
      "Epoch 28/100\n",
      "\u001b[1m571/571\u001b[0m \u001b[32m━━━━━━━━━━━━━━━━━━━━\u001b[0m\u001b[37m\u001b[0m \u001b[1m18s\u001b[0m 32ms/step - accuracy: 0.9645 - loss: 0.1128 - val_accuracy: 0.8305 - val_loss: 0.7437\n",
      "Epoch 29/100\n",
      "\u001b[1m571/571\u001b[0m \u001b[32m━━━━━━━━━━━━━━━━━━━━\u001b[0m\u001b[37m\u001b[0m \u001b[1m19s\u001b[0m 32ms/step - accuracy: 0.9624 - loss: 0.1137 - val_accuracy: 0.8248 - val_loss: 0.7968\n",
      "Epoch 30/100\n",
      "\u001b[1m571/571\u001b[0m \u001b[32m━━━━━━━━━━━━━━━━━━━━\u001b[0m\u001b[37m\u001b[0m \u001b[1m18s\u001b[0m 32ms/step - accuracy: 0.9667 - loss: 0.1044 - val_accuracy: 0.8366 - val_loss: 0.7069\n",
      "Epoch 31/100\n",
      "\u001b[1m571/571\u001b[0m \u001b[32m━━━━━━━━━━━━━━━━━━━━\u001b[0m\u001b[37m\u001b[0m \u001b[1m19s\u001b[0m 32ms/step - accuracy: 0.9692 - loss: 0.0982 - val_accuracy: 0.8382 - val_loss: 0.7778\n",
      "Epoch 32/100\n",
      "\u001b[1m571/571\u001b[0m \u001b[32m━━━━━━━━━━━━━━━━━━━━\u001b[0m\u001b[37m\u001b[0m \u001b[1m18s\u001b[0m 32ms/step - accuracy: 0.9669 - loss: 0.1007 - val_accuracy: 0.8169 - val_loss: 0.8100\n",
      "Epoch 33/100\n",
      "\u001b[1m571/571\u001b[0m \u001b[32m━━━━━━━━━━━━━━━━━━━━\u001b[0m\u001b[37m\u001b[0m \u001b[1m19s\u001b[0m 32ms/step - accuracy: 0.9660 - loss: 0.1079 - val_accuracy: 0.8352 - val_loss: 0.7152\n",
      "Epoch 34/100\n",
      "\u001b[1m571/571\u001b[0m \u001b[32m━━━━━━━━━━━━━━━━━━━━\u001b[0m\u001b[37m\u001b[0m \u001b[1m18s\u001b[0m 32ms/step - accuracy: 0.9689 - loss: 0.0987 - val_accuracy: 0.8282 - val_loss: 0.8201\n",
      "Epoch 35/100\n",
      "\u001b[1m571/571\u001b[0m \u001b[32m━━━━━━━━━━━━━━━━━━━━\u001b[0m\u001b[37m\u001b[0m \u001b[1m18s\u001b[0m 32ms/step - accuracy: 0.9703 - loss: 0.0962 - val_accuracy: 0.8255 - val_loss: 0.7950\n",
      "Epoch 36/100\n",
      "\u001b[1m571/571\u001b[0m \u001b[32m━━━━━━━━━━━━━━━━━━━━\u001b[0m\u001b[37m\u001b[0m \u001b[1m18s\u001b[0m 32ms/step - accuracy: 0.9749 - loss: 0.0820 - val_accuracy: 0.8391 - val_loss: 0.7679\n",
      "Epoch 37/100\n",
      "\u001b[1m571/571\u001b[0m \u001b[32m━━━━━━━━━━━━━━━━━━━━\u001b[0m\u001b[37m\u001b[0m \u001b[1m18s\u001b[0m 32ms/step - accuracy: 0.9706 - loss: 0.0942 - val_accuracy: 0.8396 - val_loss: 0.7589\n",
      "Epoch 38/100\n",
      "\u001b[1m571/571\u001b[0m \u001b[32m━━━━━━━━━━━━━━━━━━━━\u001b[0m\u001b[37m\u001b[0m \u001b[1m18s\u001b[0m 32ms/step - accuracy: 0.9725 - loss: 0.0815 - val_accuracy: 0.8324 - val_loss: 0.7918\n",
      "Epoch 39/100\n",
      "\u001b[1m571/571\u001b[0m \u001b[32m━━━━━━━━━━━━━━━━━━━━\u001b[0m\u001b[37m\u001b[0m \u001b[1m18s\u001b[0m 32ms/step - accuracy: 0.9738 - loss: 0.0802 - val_accuracy: 0.8430 - val_loss: 0.7781\n",
      "Epoch 40/100\n",
      "\u001b[1m571/571\u001b[0m \u001b[32m━━━━━━━━━━━━━━━━━━━━\u001b[0m\u001b[37m\u001b[0m \u001b[1m18s\u001b[0m 32ms/step - accuracy: 0.9775 - loss: 0.0738 - val_accuracy: 0.8375 - val_loss: 0.7332\n",
      "Epoch 41/100\n",
      "\u001b[1m571/571\u001b[0m \u001b[32m━━━━━━━━━━━━━━━━━━━━\u001b[0m\u001b[37m\u001b[0m \u001b[1m18s\u001b[0m 32ms/step - accuracy: 0.9756 - loss: 0.0772 - val_accuracy: 0.8320 - val_loss: 0.7579\n",
      "Epoch 42/100\n",
      "\u001b[1m571/571\u001b[0m \u001b[32m━━━━━━━━━━━━━━━━━━━━\u001b[0m\u001b[37m\u001b[0m \u001b[1m18s\u001b[0m 32ms/step - accuracy: 0.9750 - loss: 0.0805 - val_accuracy: 0.8480 - val_loss: 0.7584\n",
      "Epoch 43/100\n",
      "\u001b[1m571/571\u001b[0m \u001b[32m━━━━━━━━━━━━━━━━━━━━\u001b[0m\u001b[37m\u001b[0m \u001b[1m18s\u001b[0m 32ms/step - accuracy: 0.9765 - loss: 0.0751 - val_accuracy: 0.8453 - val_loss: 0.7415\n",
      "Epoch 44/100\n",
      "\u001b[1m571/571\u001b[0m \u001b[32m━━━━━━━━━━━━━━━━━━━━\u001b[0m\u001b[37m\u001b[0m \u001b[1m19s\u001b[0m 32ms/step - accuracy: 0.9781 - loss: 0.0670 - val_accuracy: 0.8399 - val_loss: 0.8201\n",
      "Epoch 45/100\n",
      "\u001b[1m571/571\u001b[0m \u001b[32m━━━━━━━━━━━━━━━━━━━━\u001b[0m\u001b[37m\u001b[0m \u001b[1m19s\u001b[0m 32ms/step - accuracy: 0.9802 - loss: 0.0665 - val_accuracy: 0.8491 - val_loss: 0.7208\n",
      "Epoch 46/100\n",
      "\u001b[1m571/571\u001b[0m \u001b[32m━━━━━━━━━━━━━━━━━━━━\u001b[0m\u001b[37m\u001b[0m \u001b[1m18s\u001b[0m 32ms/step - accuracy: 0.9782 - loss: 0.0681 - val_accuracy: 0.8420 - val_loss: 0.7994\n",
      "Epoch 47/100\n",
      "\u001b[1m571/571\u001b[0m \u001b[32m━━━━━━━━━━━━━━━━━━━━\u001b[0m\u001b[37m\u001b[0m \u001b[1m18s\u001b[0m 32ms/step - accuracy: 0.9754 - loss: 0.0750 - val_accuracy: 0.8482 - val_loss: 0.7806\n",
      "Epoch 48/100\n",
      "\u001b[1m571/571\u001b[0m \u001b[32m━━━━━━━━━━━━━━━━━━━━\u001b[0m\u001b[37m\u001b[0m \u001b[1m19s\u001b[0m 33ms/step - accuracy: 0.9771 - loss: 0.0700 - val_accuracy: 0.8457 - val_loss: 0.7669\n"
     ]
    }
   ],
   "source": [
    "callback = keras.callbacks.EarlyStopping(monitor='loss',patience=3)\n",
    "history=model.fit(x_traincnn, y_train_encoded, batch_size=64, epochs=100, validation_data=(x_testcnn, y_test_encoded), callbacks=[callback])"
   ]
  },
  {
   "cell_type": "code",
   "execution_count": 20,
   "metadata": {},
   "outputs": [
    {
     "name": "stdout",
     "output_type": "stream",
     "text": [
      "\u001b[1m 30/562\u001b[0m \u001b[32m━\u001b[0m\u001b[37m━━━━━━━━━━━━━━━━━━━\u001b[0m \u001b[1m1s\u001b[0m 4ms/step"
     ]
    },
    {
     "name": "stderr",
     "output_type": "stream",
     "text": [
      "2024-11-13 21:57:09.701817: W external/local_xla/xla/tsl/framework/cpu_allocator_impl.cc:83] Allocation of 363667968 exceeds 10% of free system memory.\n"
     ]
    },
    {
     "name": "stdout",
     "output_type": "stream",
     "text": [
      "\u001b[1m562/562\u001b[0m \u001b[32m━━━━━━━━━━━━━━━━━━━━\u001b[0m\u001b[37m\u001b[0m \u001b[1m2s\u001b[0m 3ms/step\n"
     ]
    }
   ],
   "source": [
    "predictions = np.argmax(model.predict(x_testcnn),axis=1)"
   ]
  },
  {
   "cell_type": "code",
   "execution_count": 21,
   "metadata": {},
   "outputs": [],
   "source": [
    "predictions_encoded = to_categorical(predictions, num_classes=6)"
   ]
  },
  {
   "cell_type": "code",
   "execution_count": 22,
   "metadata": {},
   "outputs": [
    {
     "name": "stdout",
     "output_type": "stream",
     "text": [
      "              precision    recall  f1-score   support\n",
      "\n",
      "           0       0.88      0.90      0.89      3167\n",
      "           1       0.80      0.85      0.82      3065\n",
      "           2       0.86      0.81      0.83      3002\n",
      "           3       0.90      0.80      0.84      3114\n",
      "           4       0.86      0.86      0.86      2568\n",
      "           5       0.79      0.86      0.82      3066\n",
      "\n",
      "   micro avg       0.85      0.85      0.85     17982\n",
      "   macro avg       0.85      0.85      0.85     17982\n",
      "weighted avg       0.85      0.85      0.85     17982\n",
      " samples avg       0.85      0.85      0.85     17982\n",
      "\n"
     ]
    }
   ],
   "source": [
    "from sklearn.metrics import classification_report\n",
    "report = classification_report(y_test_encoded, predictions_encoded)\n",
    "print(report)"
   ]
  },
  {
   "cell_type": "markdown",
   "metadata": {},
   "source": [
    "              precision    recall  f1-score   support\n",
    "\n",
    "           0       0.87      0.94      0.90       863\n",
    "           1       0.75      0.58      0.65       290\n",
    "\n",
    "   micro avg       0.85      0.85      0.85      1153\n",
    "   macro avg       0.81      0.76      0.78      1153\n",
    "weighted avg       0.84      0.85      0.84      1153\n",
    " samples avg       0.85      0.85      0.85      1153"
   ]
  },
  {
   "cell_type": "code",
   "execution_count": 23,
   "metadata": {},
   "outputs": [],
   "source": [
    "MODEL_DIR_PATH = 'models'"
   ]
  },
  {
   "cell_type": "code",
   "execution_count": 24,
   "metadata": {},
   "outputs": [
    {
     "name": "stdout",
     "output_type": "stream",
     "text": [
      "Saved trained model at models/emotion_detection_2.keras \n"
     ]
    }
   ],
   "source": [
    "if not os.path.isdir(MODEL_DIR_PATH):\n",
    "    os.makedirs(MODEL_DIR_PATH)\n",
    "model_path = os.path.join(MODEL_DIR_PATH, 'emotion_detection_2.keras')\n",
    "model.save(model_path)\n",
    "print('Saved trained model at %s ' % model_path)"
   ]
  }
 ],
 "metadata": {
  "kernelspec": {
   "display_name": "env_nlp",
   "language": "python",
   "name": "python3"
  },
  "language_info": {
   "codemirror_mode": {
    "name": "ipython",
    "version": 3
   },
   "file_extension": ".py",
   "mimetype": "text/x-python",
   "name": "python",
   "nbconvert_exporter": "python",
   "pygments_lexer": "ipython3",
   "version": "3.10.12"
  }
 },
 "nbformat": 4,
 "nbformat_minor": 2
}
